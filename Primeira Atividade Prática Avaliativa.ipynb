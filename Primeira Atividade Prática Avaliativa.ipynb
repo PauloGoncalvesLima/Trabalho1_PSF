{
 "cells": [
  {
   "cell_type": "code",
   "execution_count": null,
   "metadata": {},
   "outputs": [],
   "source": []
  },
  {
   "cell_type": "markdown",
   "metadata": {},
   "source": [
    "<img src=\"https://www.dropbox.com/s/l93ecugg1jbtjiw/fga.png?raw=1\" width=\"1200\" height=\"400\">\n",
    "<ul>\n",
    "    <li> <b>Campus UnB Gama</b> </li>\n",
    "    <li> <b>Disciplina: Processamento Digital de Sinais Financeiros</b> </li>\n",
    "    <a href=\"https://www.linkedin.com/in/marcelino-andrade-b164b369/\">\n",
    "    <li> <b>Prof. Marcelino Monteiro de Andrade Dr.</b> </li>\n",
    "</ul>\n",
    "\n",
    "\n",
    "    Primeira (1/3) Atividade Prática Avaliativa\n",
    "    Entrega da Atividade 27/07/2022 \n",
    "    \"A não entrega na data esperada reduz em 50% na nota da avaliação\""
   ]
  },
  {
   "cell_type": "markdown",
   "metadata": {},
   "source": [
    "\n",
    "<div id=\"Tópicos\">\n",
    "    <h2>Questões</h2>\n",
    "</div>\n",
    "\n",
    "\n",
    "<div class=\"alert alert-block alert-info\" style=\"margin-top: 20px\">\n",
    "<ol> \n",
    "<li> Colete os preços e volumes de um conjunto de ativos durante o período de 10 (quinze) anos, pertencentes a no mínimo 5 (cinco) Índices de Segmentos e Setoriais diferentes na B3, e separe os 30 (cinquenta) ativos mais líquidos; </li><p></p>\n",
    "    <li> Construa amostras de treinamento e outras de teste, sendo a primeira com os 3 (três) anos e a segunda com o último ano, e desloque as janelas anualmente (walk forward analysis); </li> <p></p>\n",
    "    <li> Na amostra de treinamento, aplique uma clusterização não supervisionada (K-Means ou DBSCAN) e separe um ativo para cada clusters, com o critério que desejar (sugestão maior índice Sharpe); </li><p></p>\n",
    "    <li> Aplique a Teoria do Portfolio Moderno de Markowitz nos ativos escolhidos no passo anterior, no sentido de alocar um capital de R$100.000,00; </li><p></p>\n",
    "    <li> Verifique o resultado da alocação de capital com Markowitz nos ativos separados, na fase de treinamento, na amostra de teste que representa o último ano da aquisição e compare com o índice Bovespa; </li><p></p>\n",
    "    <li> Descreva suas impressores relativas ao processo, baseado em números, e resultados encontrados. </li>\n",
    "</ol>\n",
    "</div>\n"
   ]
  },
  {
   "cell_type": "markdown",
   "metadata": {},
   "source": [
    "### Questão 1:"
   ]
  },
  {
   "cell_type": "code",
   "execution_count": 88,
   "metadata": {},
   "outputs": [],
   "source": [
    "def historicalDay(coin,yesterdayB,todayB):\n",
    "    df = yf.download(coin, start=str(yesterdayB), end=str(todayB)) \n",
    "    return df"
   ]
  },
  {
   "cell_type": "code",
   "execution_count": 144,
   "metadata": {},
   "outputs": [],
   "source": [
    "indice_list = ['IAGRO', 'IFNC', 'BDRX', 'ICON', 'IEE', 'IFIX', 'IFIL', 'IMAT', 'IDIV', 'INDX', 'IMOB', 'MLCX', 'SMLL', 'UTIL', 'IVBX', 'DI']"
   ]
  },
  {
   "cell_type": "code",
   "execution_count": 132,
   "metadata": {},
   "outputs": [
    {
     "name": "stdout",
     "output_type": "stream",
     "text": [
      "Collecting seaborn\n",
      "  Using cached seaborn-0.11.2-py3-none-any.whl (292 kB)\n",
      "Requirement already satisfied: pandas>=0.23 in e:\\documents\\pessoal\\unb\\processamento-digital-de-sinais-financeiros\\env\\lib\\site-packages (from seaborn) (1.4.3)\n",
      "Requirement already satisfied: matplotlib>=2.2 in e:\\documents\\pessoal\\unb\\processamento-digital-de-sinais-financeiros\\env\\lib\\site-packages (from seaborn) (3.5.2)\n",
      "Collecting scipy>=1.0\n",
      "  Downloading scipy-1.8.1-cp310-cp310-win_amd64.whl (36.9 MB)\n",
      "     --------------------------------------- 36.9/36.9 MB 13.6 MB/s eta 0:00:00\n",
      "Requirement already satisfied: numpy>=1.15 in e:\\documents\\pessoal\\unb\\processamento-digital-de-sinais-financeiros\\env\\lib\\site-packages (from seaborn) (1.23.0)\n",
      "Requirement already satisfied: pyparsing>=2.2.1 in e:\\documents\\pessoal\\unb\\processamento-digital-de-sinais-financeiros\\env\\lib\\site-packages (from matplotlib>=2.2->seaborn) (3.0.9)\n",
      "Requirement already satisfied: fonttools>=4.22.0 in e:\\documents\\pessoal\\unb\\processamento-digital-de-sinais-financeiros\\env\\lib\\site-packages (from matplotlib>=2.2->seaborn) (4.33.3)\n",
      "Requirement already satisfied: pillow>=6.2.0 in e:\\documents\\pessoal\\unb\\processamento-digital-de-sinais-financeiros\\env\\lib\\site-packages (from matplotlib>=2.2->seaborn) (9.2.0)\n",
      "Requirement already satisfied: cycler>=0.10 in e:\\documents\\pessoal\\unb\\processamento-digital-de-sinais-financeiros\\env\\lib\\site-packages (from matplotlib>=2.2->seaborn) (0.11.0)\n",
      "Requirement already satisfied: python-dateutil>=2.7 in e:\\documents\\pessoal\\unb\\processamento-digital-de-sinais-financeiros\\env\\lib\\site-packages (from matplotlib>=2.2->seaborn) (2.8.2)\n",
      "Requirement already satisfied: kiwisolver>=1.0.1 in e:\\documents\\pessoal\\unb\\processamento-digital-de-sinais-financeiros\\env\\lib\\site-packages (from matplotlib>=2.2->seaborn) (1.4.3)\n",
      "Requirement already satisfied: packaging>=20.0 in e:\\documents\\pessoal\\unb\\processamento-digital-de-sinais-financeiros\\env\\lib\\site-packages (from matplotlib>=2.2->seaborn) (21.3)\n",
      "Requirement already satisfied: pytz>=2020.1 in e:\\documents\\pessoal\\unb\\processamento-digital-de-sinais-financeiros\\env\\lib\\site-packages (from pandas>=0.23->seaborn) (2022.1)\n",
      "Requirement already satisfied: six>=1.5 in e:\\documents\\pessoal\\unb\\processamento-digital-de-sinais-financeiros\\env\\lib\\site-packages (from python-dateutil>=2.7->matplotlib>=2.2->seaborn) (1.16.0)\n",
      "Installing collected packages: scipy, seaborn\n",
      "Successfully installed scipy-1.8.1 seaborn-0.11.2\n"
     ]
    },
    {
     "name": "stderr",
     "output_type": "stream",
     "text": [
      "WARNING: There was an error checking the latest version of pip.\n"
     ]
    }
   ],
   "source": [
    "!pip3 install seaborn"
   ]
  },
  {
   "cell_type": "code",
   "execution_count": 133,
   "metadata": {},
   "outputs": [],
   "source": [
    "import pandas as pd\n",
    "from numpy import nan\n",
    "import yfinance as yf\n",
    "from tqdm import tqdm\n",
    "import seaborn as sns\n",
    "import matplotlib.pyplot as plt\n",
    "import datetime as dt"
   ]
  },
  {
   "cell_type": "code",
   "execution_count": 66,
   "metadata": {},
   "outputs": [
    {
     "name": "stdout",
     "output_type": "stream",
     "text": [
      "Não foi possivel fazer o download do indice: IAGRO\n",
      "Download do indice: IFNC\n",
      "Download do indice: BDRX\n",
      "Download do indice: ICON\n",
      "Download do indice: IEE\n",
      "Download do indice: IFIX\n",
      "Não foi possivel fazer o download do indice: IFIX_L\n",
      "Download do indice: IMAT\n",
      "Download do indice: IDIV\n",
      "Download do indice: INDX\n",
      "Download do indice: IMOB\n",
      "Download do indice: MLCX\n",
      "Download do indice: SMLL\n",
      "Download do indice: UTIL\n",
      "Download do indice: IVBX\n",
      "Não foi possivel fazer o download do indice: DI\n"
     ]
    }
   ],
   "source": [
    "\n",
    "base_link = 'http://bvmf.bmfbovespa.com.br/indices/ResumoCarteiraTeorica.aspx?'\n",
    "\n",
    "ativos_codes_dfs = []\n",
    "\n",
    "for indice in indice_list:\n",
    "    try:\n",
    "        ativos_codes_dfs.append(pd.read_html(f\"{base_link}Indice={indice}&idioma=pt-br\")[0]['Código'])\n",
    "        print(f'Download do indice: {indice}')\n",
    "    except ValueError:\n",
    "        print(f'Não foi possivel fazer o download do indice: {indice}')"
   ]
  },
  {
   "cell_type": "code",
   "execution_count": 68,
   "metadata": {},
   "outputs": [],
   "source": [
    "ativos_codes_dfs.append(pd.read_csv('AGFSDia_04-07-22.csv', sep=';')['Codigo'])\n",
    "ativos_codes_dfs.append(pd.read_csv('IFILDia_04-07-22.csv', sep=';')['Codigo'])"
   ]
  },
  {
   "cell_type": "code",
   "execution_count": 141,
   "metadata": {},
   "outputs": [
    {
     "name": "stdout",
     "output_type": "stream",
     "text": [
      "2022-07-02 2011-07-05\n"
     ]
    },
    {
     "name": "stderr",
     "output_type": "stream",
     "text": [
      "  0%|                                                                                                                                                                        | 0/424 [00:00<?, ?it/s]"
     ]
    },
    {
     "name": "stdout",
     "output_type": "stream",
     "text": [
      "[*********************100%***********************]  1 of 1 completed"
     ]
    },
    {
     "name": "stderr",
     "output_type": "stream",
     "text": [
      " 39%|█████████████████████████████████████████████████████████████▍                                                                                               | 166/424 [00:00<00:01, 193.70it/s]"
     ]
    },
    {
     "name": "stdout",
     "output_type": "stream",
     "text": [
      "\n",
      "[*********************100%***********************]  1 of 1 completed"
     ]
    },
    {
     "name": "stderr",
     "output_type": "stream",
     "text": [
      " 44%|████████████████████████████████████████████████████████████████████▊                                                                                        | 186/424 [00:01<00:02, 110.13it/s]"
     ]
    },
    {
     "name": "stdout",
     "output_type": "stream",
     "text": [
      "\n",
      "[*********************100%***********************]  1 of 1 completed"
     ]
    },
    {
     "name": "stderr",
     "output_type": "stream",
     "text": [
      " 46%|█████████████████████████████████████████████████████████████████████████                                                                                     | 196/424 [00:02<00:03, 68.79it/s]"
     ]
    },
    {
     "name": "stdout",
     "output_type": "stream",
     "text": [
      "\n",
      "[*********************100%***********************]  1 of 1 completed"
     ]
    },
    {
     "name": "stderr",
     "output_type": "stream",
     "text": [
      " 51%|████████████████████████████████████████████████████████████████████████████████▍                                                                             | 216/424 [00:02<00:04, 50.60it/s]"
     ]
    },
    {
     "name": "stdout",
     "output_type": "stream",
     "text": [
      "\n",
      "[*********************100%***********************]  1 of 1 completed"
     ]
    },
    {
     "name": "stderr",
     "output_type": "stream",
     "text": [
      " 76%|███████████████████████████████████████████████████████████████████████████████████████████████████████████████████████▌                                      | 321/424 [00:03<00:01, 76.90it/s]"
     ]
    },
    {
     "name": "stdout",
     "output_type": "stream",
     "text": [
      "\n",
      "[*********************100%***********************]  1 of 1 completed"
     ]
    },
    {
     "name": "stderr",
     "output_type": "stream",
     "text": [
      "100%|██████████████████████████████████████████████████████████████████████████████████████████████████████████████████████████████████████████████████████████████| 424/424 [00:04<00:00, 94.04it/s]"
     ]
    },
    {
     "name": "stdout",
     "output_type": "stream",
     "text": [
      "\n"
     ]
    },
    {
     "name": "stderr",
     "output_type": "stream",
     "text": [
      "\n"
     ]
    }
   ],
   "source": [
    "todos_cod_dos_ativos = {}\n",
    "\n",
    "for indice in ativos_codes_dfs:\n",
    "    for code in indice.values:\n",
    "        if code == 'Quantidade Teórica Total  Redutor':\n",
    "            continue\n",
    "        try:\n",
    "            todos_cod_dos_ativos[code] = todos_cod_dos_ativos[code] + 1\n",
    "        except KeyError:\n",
    "            todos_cod_dos_ativos[code] = 1\n",
    "total = 0\n",
    "\n",
    "todayB = dt.date.today()\n",
    "yesterdayB = todayB - dt.timedelta(days=11*365)\n",
    "print(todayB,yesterdayB)\n",
    "\n",
    "ativos_historical_data_dfs = []\n",
    "\n",
    "outOpen, outHigh, outLow, outClose, outVolume = pd.DataFrame(),pd.DataFrame(),pd.DataFrame(),pd.DataFrame(),pd.DataFrame()\n",
    "cols=[]\n",
    "\n",
    "for cod in tqdm(todos_cod_dos_ativos):\n",
    "    if todos_cod_dos_ativos[cod] >= 5:\n",
    "        try:\n",
    "            tmp_df = historicalDay(f'{cod}.SA', yesterdayB, todayB)\n",
    "\n",
    "            dfOutOpen    = tmp_df['Open']\n",
    "            dfOutClose   = tmp_df['Close']\n",
    "            dfOutHigh    = tmp_df['High']\n",
    "            dfOutLow     = tmp_df['Low']\n",
    "            dfOutVolume  = tmp_df['Volume']\n",
    "\n",
    "            outOpen   = pd.concat([outOpen, dfOutOpen], axis=1)\n",
    "            outClose  = pd.concat([outClose, dfOutClose], axis=1)\n",
    "            outHigh   = pd.concat([outHigh, dfOutHigh], axis=1)\n",
    "            outLow    = pd.concat([outLow, dfOutLow], axis=1)\n",
    "            outVolume = pd.concat([outVolume, dfOutVolume], axis=1)\n",
    "\n",
    "            cols.append(cod)\n",
    "        except:\n",
    "            print(f'Error: {cod}')\n",
    "\n",
    "outOpen.columns=cols\n",
    "outClose.columns=cols\n",
    "outHigh.columns=cols\n",
    "outLow.columns=cols\n",
    "outVolume.columns=cols       \n",
    "        \n",
    "# your_list = [\"a\", \"b\", \"a\", \"c\", \"c\", \"a\", \"c\"]\n",
    "# dict_of_counts = {item:your_list.count(item) for item in your_list}\n",
    "# print(dict_of_counts)"
   ]
  },
  {
   "cell_type": "code",
   "execution_count": 142,
   "metadata": {},
   "outputs": [
    {
     "data": {
      "text/plain": [
       "<AxesSubplot:>"
      ]
     },
     "execution_count": 142,
     "metadata": {},
     "output_type": "execute_result"
    },
    {
     "data": {
      "image/png": "[encoded data removed]",
      "text/plain": [
       "<Figure size 2880x720 with 1 Axes>"
      ]
     },
     "metadata": {
      "needs_background": "light"
     },
     "output_type": "display_data"
    }
   ],
   "source": [
    "output=outVolume.copy()\n",
    "\n",
    "plt.figure(figsize=(40,10))\n",
    "sns.heatmap(output.isnull(),  cbar=False, cmap = 'summer')"
   ]
  },
  {
   "cell_type": "code",
   "execution_count": 143,
   "metadata": {},
   "outputs": [
    {
     "data": {
      "text/plain": [
       "6"
      ]
     },
     "execution_count": 143,
     "metadata": {},
     "output_type": "execute_result"
    }
   ],
   "source": [
    "len(output.columns)"
   ]
  },
  {
   "cell_type": "code",
   "execution_count": 139,
   "metadata": {},
   "outputs": [
    {
     "data": {
      "text/plain": [
       "[]"
      ]
     },
     "execution_count": 139,
     "metadata": {},
     "output_type": "execute_result"
    }
   ],
   "source": [
    "medias_dos_volumes_de_cada_ativo = {}\n",
    "\n",
    "for cod, ativo_df in zip(todos_cod_dos_ativos, ativos_historical_data_dfs):\n",
    "    medias_dos_volumes_de_cada_ativo[cod] = ativo_df['Volume'].mean(axis=0)\n",
    "    \n",
    "sorted(medias_dos_volumes_de_cada_ativo.items(), key= lambda x:x[1], reverse=True)"
   ]
  },
  {
   "cell_type": "code",
   "execution_count": 124,
   "metadata": {},
   "outputs": [
    {
     "data": {
      "text/html": [
       "<div>\n",
       "<style scoped>\n",
       "    .dataframe tbody tr th:only-of-type {\n",
       "        vertical-align: middle;\n",
       "    }\n",
       "\n",
       "    .dataframe tbody tr th {\n",
       "        vertical-align: top;\n",
       "    }\n",
       "\n",
       "    .dataframe thead th {\n",
       "        text-align: right;\n",
       "    }\n",
       "</style>\n",
       "<table border=\"1\" class=\"dataframe\">\n",
       "  <thead>\n",
       "    <tr style=\"text-align: right;\">\n",
       "      <th></th>\n",
       "      <th>Open</th>\n",
       "      <th>High</th>\n",
       "      <th>Low</th>\n",
       "      <th>Close</th>\n",
       "      <th>Adj Close</th>\n",
       "      <th>Volume</th>\n",
       "    </tr>\n",
       "    <tr>\n",
       "      <th>Date</th>\n",
       "      <th></th>\n",
       "      <th></th>\n",
       "      <th></th>\n",
       "      <th></th>\n",
       "      <th></th>\n",
       "      <th></th>\n",
       "    </tr>\n",
       "  </thead>\n",
       "  <tbody>\n",
       "    <tr>\n",
       "      <th>2013-04-29</th>\n",
       "      <td>16.950001</td>\n",
       "      <td>16.950001</td>\n",
       "      <td>16.100000</td>\n",
       "      <td>16.600000</td>\n",
       "      <td>9.064987</td>\n",
       "      <td>85582800</td>\n",
       "    </tr>\n",
       "    <tr>\n",
       "      <th>2013-04-30</th>\n",
       "      <td>16.600000</td>\n",
       "      <td>17.080000</td>\n",
       "      <td>16.600000</td>\n",
       "      <td>17.049999</td>\n",
       "      <td>9.310722</td>\n",
       "      <td>26950200</td>\n",
       "    </tr>\n",
       "    <tr>\n",
       "      <th>2013-05-02</th>\n",
       "      <td>17.000000</td>\n",
       "      <td>17.500000</td>\n",
       "      <td>16.980000</td>\n",
       "      <td>17.500000</td>\n",
       "      <td>9.556459</td>\n",
       "      <td>16057200</td>\n",
       "    </tr>\n",
       "    <tr>\n",
       "      <th>2013-05-03</th>\n",
       "      <td>17.420000</td>\n",
       "      <td>17.850000</td>\n",
       "      <td>17.370001</td>\n",
       "      <td>17.750000</td>\n",
       "      <td>9.692982</td>\n",
       "      <td>13031000</td>\n",
       "    </tr>\n",
       "    <tr>\n",
       "      <th>2013-05-06</th>\n",
       "      <td>17.750000</td>\n",
       "      <td>17.990000</td>\n",
       "      <td>17.639999</td>\n",
       "      <td>17.930000</td>\n",
       "      <td>9.791277</td>\n",
       "      <td>19911900</td>\n",
       "    </tr>\n",
       "    <tr>\n",
       "      <th>...</th>\n",
       "      <td>...</td>\n",
       "      <td>...</td>\n",
       "      <td>...</td>\n",
       "      <td>...</td>\n",
       "      <td>...</td>\n",
       "      <td>...</td>\n",
       "    </tr>\n",
       "    <tr>\n",
       "      <th>2022-06-27</th>\n",
       "      <td>24.690001</td>\n",
       "      <td>25.200001</td>\n",
       "      <td>24.590000</td>\n",
       "      <td>24.920000</td>\n",
       "      <td>24.920000</td>\n",
       "      <td>3385000</td>\n",
       "    </tr>\n",
       "    <tr>\n",
       "      <th>2022-06-28</th>\n",
       "      <td>25.410000</td>\n",
       "      <td>25.770000</td>\n",
       "      <td>25.139999</td>\n",
       "      <td>25.450001</td>\n",
       "      <td>25.450001</td>\n",
       "      <td>4885100</td>\n",
       "    </tr>\n",
       "    <tr>\n",
       "      <th>2022-06-29</th>\n",
       "      <td>25.510000</td>\n",
       "      <td>26.100000</td>\n",
       "      <td>25.440001</td>\n",
       "      <td>25.480000</td>\n",
       "      <td>25.480000</td>\n",
       "      <td>5616100</td>\n",
       "    </tr>\n",
       "    <tr>\n",
       "      <th>2022-06-30</th>\n",
       "      <td>25.200001</td>\n",
       "      <td>26.090000</td>\n",
       "      <td>25.110001</td>\n",
       "      <td>25.959999</td>\n",
       "      <td>25.959999</td>\n",
       "      <td>9766800</td>\n",
       "    </tr>\n",
       "    <tr>\n",
       "      <th>2022-07-01</th>\n",
       "      <td>25.990000</td>\n",
       "      <td>26.219999</td>\n",
       "      <td>25.520000</td>\n",
       "      <td>26.049999</td>\n",
       "      <td>26.049999</td>\n",
       "      <td>4823100</td>\n",
       "    </tr>\n",
       "  </tbody>\n",
       "</table>\n",
       "<p>2280 rows × 6 columns</p>\n",
       "</div>"
      ],
      "text/plain": [
       "                 Open       High        Low      Close  Adj Close    Volume\n",
       "Date                                                                       \n",
       "2013-04-29  16.950001  16.950001  16.100000  16.600000   9.064987  85582800\n",
       "2013-04-30  16.600000  17.080000  16.600000  17.049999   9.310722  26950200\n",
       "2013-05-02  17.000000  17.500000  16.980000  17.500000   9.556459  16057200\n",
       "2013-05-03  17.420000  17.850000  17.370001  17.750000   9.692982  13031000\n",
       "2013-05-06  17.750000  17.990000  17.639999  17.930000   9.791277  19911900\n",
       "...               ...        ...        ...        ...        ...       ...\n",
       "2022-06-27  24.690001  25.200001  24.590000  24.920000  24.920000   3385000\n",
       "2022-06-28  25.410000  25.770000  25.139999  25.450001  25.450001   4885100\n",
       "2022-06-29  25.510000  26.100000  25.440001  25.480000  25.480000   5616100\n",
       "2022-06-30  25.200001  26.090000  25.110001  25.959999  25.959999   9766800\n",
       "2022-07-01  25.990000  26.219999  25.520000  26.049999  26.049999   4823100\n",
       "\n",
       "[2280 rows x 6 columns]"
      ]
     },
     "execution_count": 124,
     "metadata": {},
     "output_type": "execute_result"
    }
   ],
   "source": [
    "ativos_historical_data_dfs[0]"
   ]
  },
  {
   "cell_type": "code",
   "execution_count": null,
   "metadata": {},
   "outputs": [],
   "source": []
  },
  {
   "cell_type": "code",
   "execution_count": null,
   "metadata": {},
   "outputs": [
    {
     "name": "stdout",
     "output_type": "stream",
     "text": [
      "(1, 'a')\n",
      "(2, 'b')\n",
      "(3, 'c')\n",
      "(4, 'd')\n"
     ]
    }
   ],
   "source": [
    "a = [1, 2, 3, 4]\n",
    "b = ['a', 'b', 'c', 'd']\n",
    "\n",
    "for i in zip(a, b):\n",
    "    print(i)"
   ]
  },
  {
   "cell_type": "markdown",
   "metadata": {},
   "source": [
    "### Questão 2: "
   ]
  },
  {
   "cell_type": "code",
   "execution_count": null,
   "metadata": {},
   "outputs": [],
   "source": []
  },
  {
   "cell_type": "markdown",
   "metadata": {},
   "source": [
    "### Questão 3: "
   ]
  },
  {
   "cell_type": "code",
   "execution_count": null,
   "metadata": {},
   "outputs": [],
   "source": []
  },
  {
   "cell_type": "markdown",
   "metadata": {},
   "source": [
    "### Questão 4: "
   ]
  },
  {
   "cell_type": "code",
   "execution_count": null,
   "metadata": {},
   "outputs": [],
   "source": []
  },
  {
   "cell_type": "markdown",
   "metadata": {},
   "source": [
    "### Questão 5: "
   ]
  },
  {
   "cell_type": "code",
   "execution_count": null,
   "metadata": {},
   "outputs": [],
   "source": []
  },
  {
   "cell_type": "markdown",
   "metadata": {},
   "source": [
    "### Questão 6: "
   ]
  },
  {
   "cell_type": "code",
   "execution_count": null,
   "metadata": {},
   "outputs": [],
   "source": []
  }
 ],
 "metadata": {
  "kernelspec": {
   "display_name": "Python 3 (ipykernel)",
   "language": "python",
   "name": "python3"
  },
  "language_info": {
   "codemirror_mode": {
    "name": "ipython",
    "version": 3
   },
   "file_extension": ".py",
   "mimetype": "text/x-python",
   "name": "python",
   "nbconvert_exporter": "python",
   "pygments_lexer": "ipython3",
   "version": "3.10.2"
  },
  "vscode": {
   "interpreter": {
    "hash": "dbf379d5c93281375dc081900687615182a6d3adc4be09e897dd1d202cadfada"
   }
  }
 },
 "nbformat": 4,
 "nbformat_minor": 4
}
